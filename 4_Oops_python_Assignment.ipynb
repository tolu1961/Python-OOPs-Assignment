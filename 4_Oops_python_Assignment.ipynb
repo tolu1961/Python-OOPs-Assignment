{
  "nbformat": 4,
  "nbformat_minor": 0,
  "metadata": {
    "colab": {
      "provenance": []
    },
    "kernelspec": {
      "name": "python3",
      "display_name": "Python 3"
    },
    "language_info": {
      "name": "python"
    }
  },
  "cells": [
    {
      "cell_type": "markdown",
      "source": [
        "## **Python OOPs Question**"
      ],
      "metadata": {
        "id": "8GrmfmwQyyqV"
      }
    },
    {
      "cell_type": "markdown",
      "source": [
        "Q1. What is Object-Oriented Programming (OOP)?\n",
        "  \n",
        "  -  Object-Oriented programing (OOP) is a poweful programing that organise code into reusable called as objects."
      ],
      "metadata": {
        "id": "Ayplkuoi6fLF"
      }
    },
    {
      "cell_type": "markdown",
      "source": [
        "Q2.What is a class in OOP?\n",
        "   - OOP is a object oriented programing system.\n",
        "   - classes are BLURPRINT/ TEMPELATE for creating an object."
      ],
      "metadata": {
        "id": "tw30ueao8Abm"
      }
    },
    {
      "cell_type": "markdown",
      "source": [
        "Q3.What is an object in OOP?\n",
        "\n",
        "  -  An object is creating from class which act like a BLUEPRINT/TEMPELATE."
      ],
      "metadata": {
        "id": "RVF5HqB78TBP"
      }
    },
    {
      "cell_type": "markdown",
      "source": [
        "Q4. What is the difference between abstraction and encapsulation?\n",
        "  - ABSTRACTION\n",
        "    - Abstraction>> concept of hiding complex implementation.\n",
        "    - Hiding unneeded details and exposing the requried.\n",
        "    - abstraction class should not be instantiated(can not make object).\n",
        "  \n",
        "  - ENCAPSULATION\n",
        "    - Encapsulation >> wrapping data (variable)and methods (function)\n",
        "     into a single unit(class)\n",
        "    - Access control>>uses access modifiers(private, protected,public) to restrict direct access.\n",
        "    - Purpose>> protects internal objects state and ensures controlled intreaction."
      ],
      "metadata": {
        "id": "HKpIXZck9x0P"
      }
    },
    {
      "cell_type": "markdown",
      "source": [
        "Q5. What are dunder methods in Python?\n",
        "   - Dunder methods (short for “double underscore” methods, also called magic methods) are special predefined methods in Python that start and end with double underscores\n",
        "      - Makes your classes behave like built-in types.\n",
        "      - enables opreators overloading(+, ==, etc).\n",
        "      - improves code readability and debugging.\n",
        "\n",
        "\n",
        "\n",
        "\n",
        "\n"
      ],
      "metadata": {
        "id": "EYTTq3ya_Lhu"
      }
    },
    {
      "cell_type": "markdown",
      "source": [
        "Q6. Explain the concept of inheritance in OOP.\n",
        "\n",
        "   -  inheritance >> refers to process of child class receving the properties of parents class.\n",
        "\n",
        "       - syntax\n",
        "       \n",
        "         class Baseclass:\n",
        "\n",
        "          body of base class\n",
        "\n",
        "         class Derivedclass(Baseclass):\n",
        "\n",
        "           body derived class"
      ],
      "metadata": {
        "id": "zjv0-b2XC3sy"
      }
    },
    {
      "cell_type": "markdown",
      "source": [
        "Q7. What is polymorphism in OOP?\n",
        "\n",
        " -  Polymorphism >> poly means many and morphism means from/states\n",
        " - refers to an object taking serval forms depending on the method/data"
      ],
      "metadata": {
        "id": "sNt6ZKl0Ecio"
      }
    },
    {
      "cell_type": "markdown",
      "source": [
        "Q8. How is encapsulation achieved in Python?\n",
        "\n",
        "- Encapsulation is a principle of onject-oriented programing (OOP)\n",
        "that:\n",
        "   - Bundles data (variable) and method(function) into a single unit:a class\n",
        "   - Restrict direct access to some of the class's internal components"
      ],
      "metadata": {
        "id": "Y3lrpecut3I-"
      }
    },
    {
      "cell_type": "markdown",
      "source": [
        "Q9.What is a constructor in Python?\n",
        "\n",
        "- a constructor is a special method that is automatically called when an object of a class is created.\n",
        "  - Initialize object attributes with custom values\n",
        "  - Run setup logic (validation, default settings, etc.)\n",
        "  - Make object creation smoother and error-free\n"
      ],
      "metadata": {
        "id": "UvviQqyDvrLA"
      }
    },
    {
      "cell_type": "markdown",
      "source": [
        "Q10.What are class and static methods in Python?\n",
        "\n",
        "->**Class Methods**\n",
        "- Defined using the @classmethod decorator.\n",
        "- The first parameter is always cls, referring to the class itself, not the instance.\n",
        "- Used when you need to modify or access class-level data.\n",
        "\n",
        "-> **Static Methods**\n",
        "- Decorated with @staticmethod.\n",
        "- No automatic self or cls passed.\n",
        "- Acts like a regular function living inside a class—used when logic has a connection to the class but doesn’t need instance/class data.\n",
        "\n"
      ],
      "metadata": {
        "id": "AxPRbkJiwcco"
      }
    },
    {
      "cell_type": "markdown",
      "source": [
        "Q11. What is method overloading in Python?\n",
        "\n",
        "- Method overloading allows a method to behave differently based on the number or type of arguments passed to it.\n"
      ],
      "metadata": {
        "id": "UjREM4cOxBxW"
      }
    },
    {
      "cell_type": "markdown",
      "source": [
        "Q12. What is method overriding in OOP?\n",
        "\n",
        "- Method overriding is the ability of a subclass to provide its own implementation of a method that is already defined in its superclass.\n",
        "\n",
        "\n"
      ],
      "metadata": {
        "id": "F3C07PHIxWhz"
      }
    },
    {
      "cell_type": "markdown",
      "source": [
        "Q13.  What is a property decorator in Python?\n",
        "\n",
        "- The @property decorator is used to define a getter method that can be accessed like an attribute, providing controlled access to instance variables.\n"
      ],
      "metadata": {
        "id": "a194WCqbxmFT"
      }
    },
    {
      "cell_type": "markdown",
      "source": [
        "Q14. Why is polymorphism important in OOP?\n",
        "\n",
        "- Polymorphism allows objects of different classes to respond to the same method call in different ways\n",
        "  \n",
        " - Code Reusability: You can write general functions or classes that work with different types.\n",
        " - Extensibility: New behavior can be added without changing existing code.\n",
        " - Cleaner Interfaces: You can rely on a common interface, even when behavior varies.\n",
        " - Supports Design Principles: Like the Open/Closed Principle—software should be open for extension, but closed for modification\n"
      ],
      "metadata": {
        "id": "rMFg0CmHxzcY"
      }
    },
    {
      "cell_type": "markdown",
      "source": [
        "Q15. What is an abstract class in Python?\n",
        "\n",
        "-  In Python, an abstract class is like a blueprint for other classes—it defines the structure but leaves the specific building details to its subclasses.\n",
        "\n",
        "\n"
      ],
      "metadata": {
        "id": "6hDkA8KfyV9R"
      }
    },
    {
      "cell_type": "markdown",
      "source": [
        "Q16. What are the advantages of OOP?\n",
        "\n",
        "-  Object-Oriented Programming (OOP) brings a whole toolbox of superpowers to your code—perfect for structured, scalable, and reusable programs.\n",
        " 1. Modularity\n",
        "- Code is divided into classes and objects.\n",
        "- Each class can be developed independently, making large projects easier to manage.\n",
        " 2. Reusability\n",
        "- Existing classes can be reused and extended via inheritance.\n",
        "- Reduces repetition and boosts productivity.\n",
        "  3. Encapsulation\n",
        "- Internal details are hidden using private/protected members.\n",
        "- Promotes data security and cleaner code boundaries.\n",
        " 4. Inheritance\n",
        "- Allows subclasses to inherit properties and behaviors from parent classes.\n",
        "- Encourages hierarchical design and promotes code reuse.\n",
        "  5. Polymorphism\n",
        "- Same method name can perform different tasks based on the object.\n",
        "- Enhances flexibility and interface consisten\n",
        " 6. Scalability & Maintainability\n",
        "- Easier to modify or extend functionality.\n",
        "- Ideal for growing applications and collaborative development.\n"
      ],
      "metadata": {
        "id": "IUcpOxf6ys5p"
      }
    },
    {
      "cell_type": "markdown",
      "source": [
        "Q17. What is the difference between a class variable and an instance variable?\n",
        "\n",
        "-> **Class Variable**\n",
        "- Belongs to the class itself, not any specific object.\n",
        "- Shared across all instances of the class.\n",
        "- Defined outside any method, usually right under the class keyword.\n",
        "\n",
        "-> **Instance Variable**\n",
        "- Belongs to a specific object.\n",
        "- Each object can have different values.\n",
        "- Defined inside the __init__() method using self\n",
        ""
      ],
      "metadata": {
        "id": "H-kNXvDTzYuq"
      }
    },
    {
      "cell_type": "markdown",
      "source": [
        "Q18. What is multiple inheritance in Python?\n",
        "\n",
        "- Multiple inheritance allows a class to inherit attributes and methods from more than one parent class.\n"
      ],
      "metadata": {
        "id": "t0XebE7tzy-M"
      }
    },
    {
      "cell_type": "markdown",
      "source": [
        "Q19. Explain the purpose of ‘’__str__’ and ‘__repr__’ ‘ methods in Python?\n",
        "\n",
        "-> In Python, __str__() and __repr__() are like two flavors of personality for your objects—they define how an object presents itself when printed or inspected.\n",
        "\n",
        " -> **__repr__() -> Developer-Facing**\n",
        "\n",
        "Meant to give an unambiguous representation of the object, ideally one that could be used to recreate it.\n",
        "\n",
        "- Used when you call repr(obj) or inspect the object in the interpreter.\n",
        "\n",
        "- Fallback if __str__() is not defined\n",
        "\n",
        "-> **__str__() → User-Facing**\n",
        "\n",
        "Intended to return a readable, friendly string—something nice for display.\n",
        "\n",
        "- Used when you call str(obj) or print(obj).\n",
        "\n"
      ],
      "metadata": {
        "id": "X8JoMSAd0C9Q"
      }
    },
    {
      "cell_type": "markdown",
      "source": [
        "Q20.What is the significance of the ‘super()’ function in Python?\n",
        "\n",
        "- super() returns a temporary object of the superclass, allowing access to its methods.\n",
        "- The super() function in Python is like a backstage pass—it lets you access and call methods from a parent class without referring to it by name directly. It’s especially useful in inheritance, where multiple classes share logic.\n",
        "\n",
        "\n"
      ],
      "metadata": {
        "id": "Ej6TKQeF1ois"
      }
    },
    {
      "cell_type": "markdown",
      "source": [
        "Q21. What is the significance of the __del__ method in Python?\n",
        "\n",
        "- The __del__ method in Python is a destructor—it’s called when an object is about to be destroyed, giving you a chance to tidy up resources like closing files, releasing memory, or logging events.\n",
        "\n"
      ],
      "metadata": {
        "id": "lVImfvMh2Wae"
      }
    },
    {
      "cell_type": "markdown",
      "source": [
        "Q22. What is the difference between @staticmethod and @classmethod in Python?\n",
        "\n",
        "->**@staticmethod: The Lone Wolf**\n",
        "\n",
        "- Doesn’t take self or cls as its first argument.\n",
        "\n",
        "- Works like a regular function but lives in a class for organizational purposes.\n",
        "\n",
        "- Can’t access or modify class or instance state.\n",
        "\n",
        "->**@classmethod: The Insider**\n",
        "\n",
        "- Takes cls as its first parameter, representing the class itself.\n",
        "\n",
        "- Can access and modify class-level data.\n",
        "\n",
        "- Often used for factory methods that create class instances with specific setups\n",
        "\n"
      ],
      "metadata": {
        "id": "rPAHv2u92qmM"
      }
    },
    {
      "cell_type": "markdown",
      "source": [
        "Q23. How does polymorphism work in Python with inheritance?\n",
        "\n",
        "-  In Python, polymorphism with inheritance lets you write code that can work with different classes interchangeably—even if they behave differently."
      ],
      "metadata": {
        "id": "-X9N8SCj3aoE"
      }
    },
    {
      "cell_type": "markdown",
      "source": [
        "Q24. What is method chaining in Python OOP?\n",
        "\n",
        "- Method chaining is a technique where methods return self so that further methods can be called on the same object sequentially.\n"
      ],
      "metadata": {
        "id": "BCL1Njd6310d"
      }
    },
    {
      "cell_type": "markdown",
      "source": [
        "Q25. What is the purpose of the __call__ method in Python?\n",
        "\n",
        "- The __call__ method in Python makes your object behave like a function.\n"
      ],
      "metadata": {
        "id": "oL4U6-hn4G8o"
      }
    },
    {
      "cell_type": "markdown",
      "source": [
        "### **Practical Questions**"
      ],
      "metadata": {
        "id": "c0m8NZog4b-3"
      }
    },
    {
      "cell_type": "markdown",
      "source": [
        "Q1. Create a parent class Animal with a method speak() that prints a generic message. Create a child class Dog that overrides the speak() method to print \"Bark!\"."
      ],
      "metadata": {
        "id": "3kVghf_75Zdz"
      }
    },
    {
      "cell_type": "code",
      "source": [
        "\n",
        "\n",
        "class Animal:\n",
        "  def speak(self):\n",
        "      print(\"Animal is speaking\")\n",
        "\n",
        "class Dog(Animal):\n",
        "  def speak(self):\n",
        "      print(\"Bark!\")\n"
      ],
      "metadata": {
        "id": "eGq22n1cFUZe"
      },
      "execution_count": 1,
      "outputs": []
    },
    {
      "cell_type": "code",
      "source": [
        "anm = Animal()"
      ],
      "metadata": {
        "id": "sXVRNq384zoM"
      },
      "execution_count": 2,
      "outputs": []
    },
    {
      "cell_type": "code",
      "source": [
        "anm.speak()"
      ],
      "metadata": {
        "colab": {
          "base_uri": "https://localhost:8080/"
        },
        "id": "gHRu-0RN5Ejd",
        "outputId": "f7059752-9fe4-4c0f-92af-702723fe4abe"
      },
      "execution_count": 3,
      "outputs": [
        {
          "output_type": "stream",
          "name": "stdout",
          "text": [
            "Animal is speaking\n"
          ]
        }
      ]
    },
    {
      "cell_type": "code",
      "source": [
        "dog = Dog()\n",
        "dog.speak()"
      ],
      "metadata": {
        "colab": {
          "base_uri": "https://localhost:8080/"
        },
        "id": "YzuT-qmS5HGF",
        "outputId": "e82e8dc8-ea5a-48e0-9349-c4eb32564e64"
      },
      "execution_count": 4,
      "outputs": [
        {
          "output_type": "stream",
          "name": "stdout",
          "text": [
            "Bark!\n"
          ]
        }
      ]
    },
    {
      "cell_type": "markdown",
      "source": [
        "Q2.Write a program to create an abstract class Shape with a method area(). Derive classes Circle and Rectangle\n",
        "from it and implement the area() method in both."
      ],
      "metadata": {
        "id": "kPVlQ0RK5cL4"
      }
    },
    {
      "cell_type": "code",
      "source": [
        "\n",
        "class Shape:\n",
        "    def __init__(self, name):\n",
        "        self.name = name\n",
        "\n",
        "    def area(self):\n",
        "        return \"Area formula not defined for base Shape.\"\n",
        "\n",
        "\n",
        "class Rectangle(Shape):\n",
        "    def __init__(self, width, height):\n",
        "        super().__init__(\"Rectangle\")\n",
        "        self.width = width\n",
        "        self.height = height\n",
        "\n",
        "    def area(self):\n",
        "        return self.width * self.height\n",
        "\n",
        "\n",
        "class Circle(Shape):\n",
        "    def __init__(self, radius):\n",
        "        super().__init__(\"Circle\")\n",
        "        self.radius = radius\n",
        "\n",
        "    def area(self):\n",
        "        return 3.14159 * self.radius * self.radius\n",
        "\n",
        "\n"
      ],
      "metadata": {
        "id": "UUHTVyiV5NvX"
      },
      "execution_count": 5,
      "outputs": []
    },
    {
      "cell_type": "code",
      "source": [
        "shapes = [Rectangle(4, 5), Circle(3)]\n",
        "\n",
        "for shape in shapes:\n",
        "    print(f\"{shape.name} area: {shape.area()}\")\n"
      ],
      "metadata": {
        "colab": {
          "base_uri": "https://localhost:8080/"
        },
        "id": "fhEjWA8-595j",
        "outputId": "ee6c05c8-b47e-48df-8476-5010a22c8cf3"
      },
      "execution_count": 6,
      "outputs": [
        {
          "output_type": "stream",
          "name": "stdout",
          "text": [
            "Rectangle area: 20\n",
            "Circle area: 28.274309999999996\n"
          ]
        }
      ]
    },
    {
      "cell_type": "markdown",
      "source": [
        "Q3.Implement a multi-level inheritance scenario where a class Vehicle has an attribute type. Derive a class Car\n",
        "and further derive a class ElectricCar that adds a battery attribute."
      ],
      "metadata": {
        "id": "9cED7laa6cGe"
      }
    },
    {
      "cell_type": "code",
      "source": [
        "class Vehicle:\n",
        "    def __init__(self, type):\n",
        "        self.type = type\n",
        "\n",
        "class Car(Vehicle):\n",
        "    def __init__(self, type, num_doors):\n",
        "        super().__init__(type)\n",
        "        self.num_doors = num_doors\n",
        "\n",
        "class ElectricCar(Car):\n",
        "    def __init__(self, type, num_doors, battery_capacity):\n",
        "        super().__init__(type, num_doors)\n",
        "        self.battery_capacity = battery_capacity"
      ],
      "metadata": {
        "id": "uZZVbGq46F03"
      },
      "execution_count": 8,
      "outputs": []
    },
    {
      "cell_type": "code",
      "source": [
        "motor = Car(\"car\", 4)\n",
        "print(motor.type)"
      ],
      "metadata": {
        "colab": {
          "base_uri": "https://localhost:8080/"
        },
        "id": "3aSDT1OJ60Rt",
        "outputId": "6a3984f2-6ab9-4fc2-95bb-1493fd275b41"
      },
      "execution_count": 10,
      "outputs": [
        {
          "output_type": "stream",
          "name": "stdout",
          "text": [
            "car\n"
          ]
        }
      ]
    },
    {
      "cell_type": "code",
      "source": [
        "elc = ElectricCar(\"Electric Car\", 4, 70)\n",
        "print(elc.battery_capacity)"
      ],
      "metadata": {
        "colab": {
          "base_uri": "https://localhost:8080/"
        },
        "id": "cHPFVjhf7I3O",
        "outputId": "9790b17e-5607-4323-f15d-4919caa7d9fe"
      },
      "execution_count": 11,
      "outputs": [
        {
          "output_type": "stream",
          "name": "stdout",
          "text": [
            "70\n"
          ]
        }
      ]
    },
    {
      "cell_type": "markdown",
      "source": [
        "Q4. Demonstrate polymorphism by creating a base class Bird with a method fly(). Create two derived classes\n",
        "Sparrow and Penguin that override the fly() method.\n"
      ],
      "metadata": {
        "id": "02GtWLnF7bBr"
      }
    },
    {
      "cell_type": "code",
      "source": [
        "class Bird:\n",
        "    def fly(self):\n",
        "        print(\"Birds can fly\")\n",
        "\n",
        "class Sparrow(Bird):\n",
        "    def fly(self):\n",
        "        print(\"Sparrows can fly\")\n",
        "\n",
        "class Penguin(Bird):\n",
        "    def fly(self):\n",
        "        print(\"Penguins cannot fly\")\n"
      ],
      "metadata": {
        "id": "KT8M2T_h7Ss0"
      },
      "execution_count": 12,
      "outputs": []
    },
    {
      "cell_type": "code",
      "source": [
        "bir = Bird()\n",
        "bir.fly()\n"
      ],
      "metadata": {
        "colab": {
          "base_uri": "https://localhost:8080/"
        },
        "id": "6Usn_7ZL7oJr",
        "outputId": "50929eb8-1401-4a9c-9350-9cce7c5f15b7"
      },
      "execution_count": 13,
      "outputs": [
        {
          "output_type": "stream",
          "name": "stdout",
          "text": [
            "Birds can fly\n"
          ]
        }
      ]
    },
    {
      "cell_type": "code",
      "source": [
        "spa = Sparrow()\n",
        "spa.fly()"
      ],
      "metadata": {
        "colab": {
          "base_uri": "https://localhost:8080/"
        },
        "id": "AnDxyZNb7zyA",
        "outputId": "fa1551e5-5904-414a-c0c4-7da5a60ceda3"
      },
      "execution_count": 14,
      "outputs": [
        {
          "output_type": "stream",
          "name": "stdout",
          "text": [
            "Sparrows can fly\n"
          ]
        }
      ]
    },
    {
      "cell_type": "code",
      "source": [
        "pen = Penguin()\n",
        "pen.fly()"
      ],
      "metadata": {
        "colab": {
          "base_uri": "https://localhost:8080/"
        },
        "id": "3ecfPH3w73oi",
        "outputId": "962ce251-2f46-4d37-c42c-76ec6b36f82b"
      },
      "execution_count": 15,
      "outputs": [
        {
          "output_type": "stream",
          "name": "stdout",
          "text": [
            "Penguins cannot fly\n"
          ]
        }
      ]
    },
    {
      "cell_type": "markdown",
      "source": [
        "Q5.Write a program to demonstrate encapsulation by creating a class BankAccount with private attributes\n",
        "balance and methods to deposit, withdraw, and check balance."
      ],
      "metadata": {
        "id": "wjwfMiSq794T"
      }
    },
    {
      "cell_type": "code",
      "source": [
        "class Bank: #either you deposit or withdraw\n",
        "\n",
        "  def __init__(self, balance):\n",
        "      self.__balance = balance\n",
        "\n",
        "  def deposite(self, amount): #amount is new deposite\n",
        "      self.__balance = self.__balance + amount\n",
        "\n",
        "  def withdraw(self, amount):\n",
        "      if self.__balance >= amount:\n",
        "          self.__balance = self.__balance - amount\n",
        "          return True\n",
        "      else:\n",
        "          return False\n",
        "\n",
        "  def get_balance(self):\n",
        "      return self.__balance"
      ],
      "metadata": {
        "id": "VpCsZ9WD78C_"
      },
      "execution_count": 16,
      "outputs": []
    },
    {
      "cell_type": "code",
      "source": [
        "acc1 = Bank(1000)"
      ],
      "metadata": {
        "id": "xRJ5Y66R8XsI"
      },
      "execution_count": 17,
      "outputs": []
    },
    {
      "cell_type": "code",
      "source": [
        "acc1.get_balance()"
      ],
      "metadata": {
        "colab": {
          "base_uri": "https://localhost:8080/"
        },
        "id": "SRbhzxal8ciw",
        "outputId": "b95dff99-7647-48c0-af89-6110598e4819"
      },
      "execution_count": 18,
      "outputs": [
        {
          "output_type": "execute_result",
          "data": {
            "text/plain": [
              "1000"
            ]
          },
          "metadata": {},
          "execution_count": 18
        }
      ]
    },
    {
      "cell_type": "code",
      "source": [
        "acc1.deposite(50000)"
      ],
      "metadata": {
        "id": "dFmwOtT48gBT"
      },
      "execution_count": 19,
      "outputs": []
    },
    {
      "cell_type": "code",
      "source": [
        "acc1.get_balance()"
      ],
      "metadata": {
        "colab": {
          "base_uri": "https://localhost:8080/"
        },
        "id": "U_cF95N38j6m",
        "outputId": "724e0b73-46b6-462d-f09e-479574317a9e"
      },
      "execution_count": 20,
      "outputs": [
        {
          "output_type": "execute_result",
          "data": {
            "text/plain": [
              "51000"
            ]
          },
          "metadata": {},
          "execution_count": 20
        }
      ]
    },
    {
      "cell_type": "code",
      "source": [
        "acc1.withdraw(10000)"
      ],
      "metadata": {
        "colab": {
          "base_uri": "https://localhost:8080/"
        },
        "id": "uX3FsQ7o8md0",
        "outputId": "3a5a8b73-f229-4237-ab55-89a50200d255"
      },
      "execution_count": 21,
      "outputs": [
        {
          "output_type": "execute_result",
          "data": {
            "text/plain": [
              "True"
            ]
          },
          "metadata": {},
          "execution_count": 21
        }
      ]
    },
    {
      "cell_type": "code",
      "source": [
        "acc1.get_balance()"
      ],
      "metadata": {
        "colab": {
          "base_uri": "https://localhost:8080/"
        },
        "id": "zEZXO1b78q6x",
        "outputId": "11226267-4985-4411-8759-f1ac917187c2"
      },
      "execution_count": 22,
      "outputs": [
        {
          "output_type": "execute_result",
          "data": {
            "text/plain": [
              "41000"
            ]
          },
          "metadata": {},
          "execution_count": 22
        }
      ]
    },
    {
      "cell_type": "code",
      "source": [
        "acc1.withdraw(42000)"
      ],
      "metadata": {
        "colab": {
          "base_uri": "https://localhost:8080/"
        },
        "id": "DIiLD5S78uK0",
        "outputId": "6879ae89-25f7-44ee-b885-f86279705086"
      },
      "execution_count": 23,
      "outputs": [
        {
          "output_type": "execute_result",
          "data": {
            "text/plain": [
              "False"
            ]
          },
          "metadata": {},
          "execution_count": 23
        }
      ]
    },
    {
      "cell_type": "markdown",
      "source": [
        "Q6. Demonstrate runtime polymorphism using a method play() in a base class Instrument. Derive classes Guitar\n",
        "and Piano that implement their own version of play()."
      ],
      "metadata": {
        "id": "0by6Xyp89Iex"
      }
    },
    {
      "cell_type": "code",
      "source": [
        "class Instrument:\n",
        "    def play(self):\n",
        "        print(\"playing an instrument\")\n",
        "\n",
        "class Guitar(Instrument):\n",
        "    def play(self):\n",
        "        print(\"playing a guitar\")\n",
        "\n",
        "class Piano(Instrument):\n",
        "    def play(self):\n",
        "        print(\"playing a piano\")\n",
        "\n",
        "def play_instrument(instrument):\n",
        "    instrument.play()\n",
        "\n",
        "g = Guitar()\n",
        "p = Piano()\n",
        "\n",
        "play_instrument(g)\n",
        "play_instrument(p)"
      ],
      "metadata": {
        "colab": {
          "base_uri": "https://localhost:8080/"
        },
        "id": "RYrkDmYY8y37",
        "outputId": "d6bfd36f-1527-4bcc-d7ee-ef3eac5eae6a"
      },
      "execution_count": 25,
      "outputs": [
        {
          "output_type": "stream",
          "name": "stdout",
          "text": [
            "playing a guitar\n",
            "playing a piano\n"
          ]
        }
      ]
    },
    {
      "cell_type": "markdown",
      "source": [
        "Q7.Create a class MathOperations with a class method add_numbers() to add two numbers and a static\n",
        "method subtract_numbers() to subtract two numbers."
      ],
      "metadata": {
        "id": "7VWVyceU-Avw"
      }
    },
    {
      "cell_type": "code",
      "source": [
        "class MathOperations:\n",
        "    @classmethod\n",
        "    def add_numbers(cls, a, b):\n",
        "        return a + b\n",
        "\n",
        "    @staticmethod\n",
        "    def subtract_numbers(a, b):\n",
        "        return a - b"
      ],
      "metadata": {
        "id": "js7O0uxF96hD"
      },
      "execution_count": 26,
      "outputs": []
    },
    {
      "cell_type": "code",
      "source": [
        "add = MathOperations.add_numbers(4,5)\n",
        "print(add)"
      ],
      "metadata": {
        "colab": {
          "base_uri": "https://localhost:8080/"
        },
        "id": "FhycbQ2D-NRd",
        "outputId": "b3355418-0eb8-439e-a515-f6675e7bab77"
      },
      "execution_count": 27,
      "outputs": [
        {
          "output_type": "stream",
          "name": "stdout",
          "text": [
            "9\n"
          ]
        }
      ]
    },
    {
      "cell_type": "code",
      "source": [
        "sub = MathOperations.subtract_numbers(10,5)\n",
        "print(sub)"
      ],
      "metadata": {
        "colab": {
          "base_uri": "https://localhost:8080/"
        },
        "id": "9hRGLNiC-RZI",
        "outputId": "fd294ffb-afd9-4739-bd93-ca5d7461706e"
      },
      "execution_count": 28,
      "outputs": [
        {
          "output_type": "stream",
          "name": "stdout",
          "text": [
            "5\n"
          ]
        }
      ]
    },
    {
      "cell_type": "markdown",
      "source": [
        "Q8.  Implement a class Person with a class method to count the total number of persons created."
      ],
      "metadata": {
        "id": "rYUlEyfY-ZFO"
      }
    },
    {
      "cell_type": "code",
      "source": [
        "class Person:\n",
        "    count = 0\n",
        "\n",
        "    def __init__(self, name):\n",
        "        self.name = name\n",
        "        Person.count += 1\n",
        "\n",
        "    @classmethod\n",
        "    def get_count(cls):\n",
        "        return cls.count\n"
      ],
      "metadata": {
        "id": "At93QCTd-UU7"
      },
      "execution_count": 41,
      "outputs": []
    },
    {
      "cell_type": "code",
      "source": [
        "aad= Person(\"Aaditya\")\n",
        "aad.get_count()"
      ],
      "metadata": {
        "colab": {
          "base_uri": "https://localhost:8080/"
        },
        "id": "L-9aTRp7-izs",
        "outputId": "32a1cae8-da57-4b8f-dcd1-3c4c86340c15"
      },
      "execution_count": 38,
      "outputs": [
        {
          "output_type": "execute_result",
          "data": {
            "text/plain": [
              "7"
            ]
          },
          "metadata": {},
          "execution_count": 38
        }
      ]
    },
    {
      "cell_type": "code",
      "source": [
        "suv = Person(\"Tolu\")\n",
        "print(suv.get_count())"
      ],
      "metadata": {
        "colab": {
          "base_uri": "https://localhost:8080/"
        },
        "id": "LfxVr3QG-q4g",
        "outputId": "82e2d1cd-bbf2-4bfd-ee96-3dc88ded9fcd"
      },
      "execution_count": 40,
      "outputs": [
        {
          "output_type": "stream",
          "name": "stdout",
          "text": [
            "9\n"
          ]
        }
      ]
    },
    {
      "cell_type": "markdown",
      "source": [
        "Q9. Write a class Fraction with attributes numerator and denominator. Override the str method to display the\n",
        "fraction as \"numerator/denominator\"."
      ],
      "metadata": {
        "id": "xX9K8VIp_Njx"
      }
    },
    {
      "cell_type": "code",
      "source": [
        "class Fraction:\n",
        "    def __init__(self, numerator, denominator):\n",
        "        self.numerator = numerator\n",
        "        self.denominator = denominator\n",
        "\n",
        "    def __str__(self):\n",
        "        return f\"{self.numerator}/{self.denominator}\"\n"
      ],
      "metadata": {
        "id": "MPYXqMpx_fDl"
      },
      "execution_count": 43,
      "outputs": []
    },
    {
      "cell_type": "code",
      "source": [
        "f = Fraction(4,5)\n",
        "print(f)"
      ],
      "metadata": {
        "colab": {
          "base_uri": "https://localhost:8080/"
        },
        "id": "yv883PhX_wSb",
        "outputId": "4bc7ae79-0ef4-42bd-c146-c81f639a44bc"
      },
      "execution_count": 44,
      "outputs": [
        {
          "output_type": "stream",
          "name": "stdout",
          "text": [
            "4/5\n"
          ]
        }
      ]
    },
    {
      "cell_type": "markdown",
      "source": [
        "Q10. Demonstrate operator overloading by creating a class Vector and overriding the add method to add two\n",
        "vectors."
      ],
      "metadata": {
        "id": "L_jP7PiN_1_G"
      }
    },
    {
      "cell_type": "code",
      "source": [
        "class Vector:\n",
        "    def __init__(self, x, y):\n",
        "        self.x = x\n",
        "        self.y = y\n",
        "\n",
        "    def __add__(self, other):\n",
        "        return Vector(self.x + other.x, self.y + other.y)\n",
        "\n",
        "    def __str__(self):\n",
        "        return f\"({self.x}, {self.y})\"\n",
        "\n"
      ],
      "metadata": {
        "id": "ggCOfAc-_y_a"
      },
      "execution_count": 45,
      "outputs": []
    },
    {
      "cell_type": "code",
      "source": [
        "v1 = Vector(1, 2)\n",
        "v2 = Vector(3, 4)\n",
        "v3 = v1 + v2\n",
        "print(v3)"
      ],
      "metadata": {
        "colab": {
          "base_uri": "https://localhost:8080/"
        },
        "id": "LhG8y58FACka",
        "outputId": "382ed290-2789-4bcf-cd0e-ec2c63481425"
      },
      "execution_count": 46,
      "outputs": [
        {
          "output_type": "stream",
          "name": "stdout",
          "text": [
            "(4, 6)\n"
          ]
        }
      ]
    },
    {
      "cell_type": "markdown",
      "source": [
        "Q11. Create a class Person with attributes name and age. Add a method greet() that prints \"Hello, my name is\n",
        "{name} and I am {age} years old.\""
      ],
      "metadata": {
        "id": "JJXXUIvrALjS"
      }
    },
    {
      "cell_type": "code",
      "source": [
        "class Person:\n",
        "    def __init__(self, name, age):\n",
        "        self.name = name\n",
        "        self.age = age\n",
        "\n",
        "    def greet(self):\n",
        "        print(f\"Hello, my name is {self.name} and I am {self.age} years old.\")\n",
        "\n"
      ],
      "metadata": {
        "id": "hvgIV3LXAHBz"
      },
      "execution_count": 48,
      "outputs": []
    },
    {
      "cell_type": "code",
      "source": [
        "p = Person(\"Aditya\", 25)\n",
        "p.greet()"
      ],
      "metadata": {
        "colab": {
          "base_uri": "https://localhost:8080/"
        },
        "id": "IqfwrmdYAVTn",
        "outputId": "99d91927-b31b-4c68-de9c-f1e5b4db18ba"
      },
      "execution_count": 50,
      "outputs": [
        {
          "output_type": "stream",
          "name": "stdout",
          "text": [
            "Hello, my name is Aditya and I am 25 years old.\n"
          ]
        }
      ]
    },
    {
      "cell_type": "markdown",
      "source": [
        "Q12. Implement a class Student with attributes name and grades. Create a method average_grade() to compute\n",
        "the average of the grades."
      ],
      "metadata": {
        "id": "G3eghGNJApjK"
      }
    },
    {
      "cell_type": "code",
      "source": [
        "class Student:\n",
        "    def __init__(self, name, grades):\n",
        "        self.name = name\n",
        "        self.grades = grades  # grades should be a list of numbers\n",
        "\n",
        "    def average_grade(self):\n",
        "        if not self.grades:\n",
        "            return 0  # Avoid division by zero\n",
        "        return sum(self.grades) / len(self.grades)\n",
        "\n"
      ],
      "metadata": {
        "id": "8t7PKHr-Ahep"
      },
      "execution_count": 51,
      "outputs": []
    },
    {
      "cell_type": "code",
      "source": [
        "s1 = Student(\"Aditya\", [88, 92, 77, 22])\n",
        "print(s1.average_grade())"
      ],
      "metadata": {
        "colab": {
          "base_uri": "https://localhost:8080/"
        },
        "id": "ScfoZa37AzIi",
        "outputId": "37c05cf9-39ef-49b3-9af1-f89686176ba7"
      },
      "execution_count": 52,
      "outputs": [
        {
          "output_type": "stream",
          "name": "stdout",
          "text": [
            "69.75\n"
          ]
        }
      ]
    },
    {
      "cell_type": "markdown",
      "source": [
        "Q13. Create a class Rectangle with methods set_dimensions() to set the dimensions and area() to calculate the\n",
        "area."
      ],
      "metadata": {
        "id": "Qg97ywa8BHci"
      }
    },
    {
      "cell_type": "code",
      "source": [
        "class Rectangle:\n",
        "    def __init__(self):\n",
        "        self.length = 0\n",
        "        self.width = 0\n",
        "\n",
        "    def set_dimensions(self, length, width):\n",
        "        self.length = length\n",
        "        self.width = width\n",
        "\n",
        "    def area(self):\n",
        "        return self.length * self.width\n"
      ],
      "metadata": {
        "id": "AUn9SJ-0BDqz"
      },
      "execution_count": 53,
      "outputs": []
    },
    {
      "cell_type": "code",
      "source": [
        "rect = Rectangle()\n",
        "rect.set_dimensions(4,5)\n",
        "print(rect.area())"
      ],
      "metadata": {
        "colab": {
          "base_uri": "https://localhost:8080/"
        },
        "id": "EFP56W-VBPFM",
        "outputId": "aafcb716-4702-4640-ec37-f1f6adc4aff9"
      },
      "execution_count": 54,
      "outputs": [
        {
          "output_type": "stream",
          "name": "stdout",
          "text": [
            "20\n"
          ]
        }
      ]
    },
    {
      "cell_type": "markdown",
      "source": [
        "Q14. Create a class Employee with a method calculate_salary() that computes the salary based on hours worked\n",
        "and hourly rate. Create a derived class Manager that adds a bonus to the salary"
      ],
      "metadata": {
        "id": "PSTQRUFXBcqb"
      }
    },
    {
      "cell_type": "code",
      "source": [
        "class Employee:\n",
        "    def __init__(self, name, hours_worked, hourly_rate):\n",
        "        self.name = name\n",
        "        self.hours_worked = hours_worked\n",
        "        self.hourly_rate = hourly_rate\n",
        "\n",
        "    def calculate_salary(self):\n",
        "        return self.hours_worked * self.hourly_rate\n",
        "\n",
        "class Manager(Employee):\n",
        "    def __init__(self, name, hours_worked, hourly_rate, bonus):\n",
        "        super().__init__(name, hours_worked, hourly_rate)\n",
        "        self.bonus = bonus\n",
        "\n",
        "    def calculate_salary(self):\n",
        "        base_salary = super().calculate_salary()\n",
        "        return base_salary + self.bonus\n",
        "\n"
      ],
      "metadata": {
        "id": "6C3TL14rBWP2"
      },
      "execution_count": 55,
      "outputs": []
    },
    {
      "cell_type": "code",
      "source": [
        "emp = Employee(\"Aditya\", 40, 50)\n",
        "print(emp.calculate_salary())"
      ],
      "metadata": {
        "colab": {
          "base_uri": "https://localhost:8080/"
        },
        "id": "c-IAVj25BnuS",
        "outputId": "a85cc015-ce16-47aa-aaa0-9077b7b38895"
      },
      "execution_count": 56,
      "outputs": [
        {
          "output_type": "stream",
          "name": "stdout",
          "text": [
            "2000\n"
          ]
        }
      ]
    },
    {
      "cell_type": "code",
      "source": [
        "mgr = Manager(\"Aditya\", 40, 50, 1000)\n",
        "print(mgr.calculate_salary())"
      ],
      "metadata": {
        "colab": {
          "base_uri": "https://localhost:8080/"
        },
        "id": "f5224bIOBqwr",
        "outputId": "a476350f-7680-49f9-fdac-2745d7f03b45"
      },
      "execution_count": 57,
      "outputs": [
        {
          "output_type": "stream",
          "name": "stdout",
          "text": [
            "3000\n"
          ]
        }
      ]
    },
    {
      "cell_type": "markdown",
      "source": [
        "Q15. Create a class Product with attributes name, price, and quantity. Implement a method total_price() that\n",
        "calculates the total price of the product"
      ],
      "metadata": {
        "id": "jfKTENg2B0aM"
      }
    },
    {
      "cell_type": "code",
      "source": [
        "class Product:\n",
        "    def __init__(self, name, price, quantity):\n",
        "        self.name = name\n",
        "        self.price = price\n",
        "        self.quantity = quantity\n",
        "\n",
        "    def total_price(self):\n",
        "        return self.price * self.quantity\n"
      ],
      "metadata": {
        "id": "yXo2Ft4iBudT"
      },
      "execution_count": 58,
      "outputs": []
    },
    {
      "cell_type": "code",
      "source": [
        "item = Product(\"Mobile\", 10000, 2)\n",
        "print(item.total_price())"
      ],
      "metadata": {
        "colab": {
          "base_uri": "https://localhost:8080/"
        },
        "id": "_-lK3j3xCAKO",
        "outputId": "09d93771-57d6-40b6-bc0e-402098b32532"
      },
      "execution_count": 59,
      "outputs": [
        {
          "output_type": "stream",
          "name": "stdout",
          "text": [
            "20000\n"
          ]
        }
      ]
    },
    {
      "cell_type": "markdown",
      "source": [
        "Q16. Create a class Animal with an abstract method sound(). Create two derived classes Cow and Sheep that\n",
        "implement the sound() method."
      ],
      "metadata": {
        "id": "TF7lomn6CGWt"
      }
    },
    {
      "cell_type": "code",
      "source": [
        "from abc import ABC, abstractmethod\n",
        "\n",
        "class Animal(ABC):\n",
        "    @abstractmethod\n",
        "    def sound(self):\n",
        "        pass\n",
        "\n",
        "class Cow(Animal):\n",
        "    def sound(self):\n",
        "        return \"Moo!\"\n",
        "\n",
        "class Sheep(Animal):\n",
        "    def sound(self):\n",
        "        return \"Baa!\"\n",
        "\n"
      ],
      "metadata": {
        "id": "7E7ddJMmCD9j"
      },
      "execution_count": 60,
      "outputs": []
    },
    {
      "cell_type": "code",
      "source": [
        "animals = [Cow(), Sheep()]\n",
        "for animal in animals:\n",
        "    print(f\"{animal.__class__.__name__} says: {animal.sound()}\")\n"
      ],
      "metadata": {
        "colab": {
          "base_uri": "https://localhost:8080/"
        },
        "id": "Xt_PeSU0CYuU",
        "outputId": "625d0b5e-1977-4b87-ff40-e8e6e883ed0c"
      },
      "execution_count": 61,
      "outputs": [
        {
          "output_type": "stream",
          "name": "stdout",
          "text": [
            "Cow says: Moo!\n",
            "Sheep says: Baa!\n"
          ]
        }
      ]
    },
    {
      "cell_type": "markdown",
      "source": [
        "Q17. Create a class Book with attributes title, author, and year_published. Add a method get_book_info() that\n",
        "returns a formatted string with the book's details."
      ],
      "metadata": {
        "id": "O4QkuHq5CqKM"
      }
    },
    {
      "cell_type": "code",
      "source": [
        "class Book:\n",
        "    def __init__(self, title, author, year_published):\n",
        "        self.title = title\n",
        "        self.author = author\n",
        "        self.year_published = year_published\n",
        "\n",
        "    def get_book_info(self):\n",
        "        return f\"'{self.title}' by {self.author}, published in {self.year_published}.\"\n",
        "\n"
      ],
      "metadata": {
        "id": "5AEz65bnCmz4"
      },
      "execution_count": 62,
      "outputs": []
    },
    {
      "cell_type": "code",
      "source": [
        "novel = Book(\"Wish I could tell you\", \"Durjoy Datta\", 2019)\n",
        "print(novel.get_book_info())\n"
      ],
      "metadata": {
        "colab": {
          "base_uri": "https://localhost:8080/"
        },
        "id": "bnQZsjqgC6dr",
        "outputId": "21189378-e3b8-4f52-fb7e-c1be38f7c888"
      },
      "execution_count": 65,
      "outputs": [
        {
          "output_type": "stream",
          "name": "stdout",
          "text": [
            "'Wish I could tell you' by Durjoy Datta, published in 2019.\n"
          ]
        }
      ]
    },
    {
      "cell_type": "markdown",
      "source": [
        "Q18. Create a class House with attributes address and price. Create a derived class Mansion that adds an\n",
        "attribute number_of_rooms."
      ],
      "metadata": {
        "id": "4Hz75nu0DksB"
      }
    },
    {
      "cell_type": "code",
      "source": [
        "class House:\n",
        "    def __init__(self, address, price):\n",
        "        self.address = address\n",
        "        self.price = price\n",
        "\n",
        "    def get_details(self):\n",
        "        return f\"House located at {self.address}, priced at ₹{self.price}\"\n",
        "\n",
        "class Mansion(House):\n",
        "    def __init__(self, address, price, number_of_rooms):\n",
        "        super().__init__(address, price)\n",
        "        self.number_of_rooms = number_of_rooms\n",
        "\n",
        "    def get_details(self):\n",
        "        return f\"Mansion at {self.address}, priced at ₹{self.price}, with {self.number_of_rooms} rooms\"\n",
        "\n"
      ],
      "metadata": {
        "id": "NHcuhCHUDGWG"
      },
      "execution_count": 66,
      "outputs": []
    },
    {
      "cell_type": "code",
      "source": [
        "simple_home = House(\"Gulmohar Lane, Delhi\", 2500000)\n",
        "fancy_mansion = Mansion(\"Palm Avenue, Mumbai\", 15000000, 12)\n",
        "\n",
        "print(simple_home.get_details())\n",
        "print(fancy_mansion.get_details())\n"
      ],
      "metadata": {
        "colab": {
          "base_uri": "https://localhost:8080/"
        },
        "id": "_ArwM-oLD39_",
        "outputId": "f40ca98b-d6b3-4f7d-eeb2-49ac69a15d1b"
      },
      "execution_count": 68,
      "outputs": [
        {
          "output_type": "stream",
          "name": "stdout",
          "text": [
            "House located at Gulmohar Lane, Delhi, priced at ₹2500000\n",
            "Mansion at Palm Avenue, Mumbai, priced at ₹15000000, with 12 rooms\n"
          ]
        }
      ]
    },
    {
      "cell_type": "code",
      "source": [],
      "metadata": {
        "id": "5TTrseM5EA0F"
      },
      "execution_count": null,
      "outputs": []
    }
  ]
}